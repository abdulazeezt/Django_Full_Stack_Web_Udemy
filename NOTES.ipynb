{
 "cells": [
  {
   "cell_type": "code",
   "execution_count": null,
   "metadata": {},
   "outputs": [],
   "source": []
  },
  {
   "cell_type": "markdown",
   "metadata": {},
   "source": [
    "# Commenting the code in VSCode editor\n",
    "        Press CTRL + / to make any line as comment. \n",
    "\n"
   ]
  },
  {
   "cell_type": "markdown",
   "metadata": {},
   "source": [
    "# HREF\n",
    "## link\n",
    "    \"rel\"    indicates relationship with the Link"
   ]
  },
  {
   "cell_type": "code",
   "execution_count": null,
   "metadata": {},
   "outputs": [],
   "source": []
  },
  {
   "cell_type": "code",
   "execution_count": null,
   "metadata": {},
   "outputs": [],
   "source": []
  },
  {
   "cell_type": "markdown",
   "metadata": {},
   "source": [
    "# A <div> section in a document that is styled with CSS:\n",
    "\n",
    "    <!-- \n",
    "        <html>\n",
    "        <head>\n",
    "        <style>\n",
    "        .myDiv {\n",
    "          border: 5px outset red;\n",
    "          background-color: lightblue;\n",
    "          text-align: center;\n",
    "        }\n",
    "        </style>\n",
    "        </head>\n",
    "        <body>\n",
    "\n",
    "        <div class=\"myDiv\">\n",
    "          <h2>This is a heading in a div element</h2>\n",
    "          <p>This is some text in a div element.</p>\n",
    "        </div>\n",
    "\n",
    "        </body>\n",
    "        </html>  \n",
    "    \n",
    "    -->"
   ]
  },
  {
   "cell_type": "markdown",
   "metadata": {},
   "source": [
    "# CSS Notes"
   ]
  },
  {
   "cell_type": "code",
   "execution_count": null,
   "metadata": {},
   "outputs": [],
   "source": []
  },
  {
   "cell_type": "markdown",
   "metadata": {},
   "source": [
    "# Specificity\n",
    "    priority of the css blocks.\n",
    "    Hirerarchy of the css tags."
   ]
  }
 ],
 "metadata": {
  "interpreter": {
   "hash": "b3ba2566441a7c06988d0923437866b63cedc61552a5af99d1f4fb67d367b25f"
  },
  "kernelspec": {
   "display_name": "Python 3.7.6 64-bit ('base': conda)",
   "name": "python3"
  },
  "language_info": {
   "name": "python",
   "version": "3.7.6"
  },
  "orig_nbformat": 4
 },
 "nbformat": 4,
 "nbformat_minor": 2
}
