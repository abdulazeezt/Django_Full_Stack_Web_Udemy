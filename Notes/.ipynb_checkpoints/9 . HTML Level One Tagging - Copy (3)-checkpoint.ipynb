{
 "cells": [
  {
   "cell_type": "markdown",
   "id": "bottom-bride",
   "metadata": {},
   "source": [
    "__Tagging__"
   ]
  },
  {
   "cell_type": "markdown",
   "id": "terminal-hurricane",
   "metadata": {},
   "source": [
    "Tagging is a way to insert any elements "
   ]
  },
  {
   "cell_type": "code",
   "execution_count": null,
   "id": "fifth-showcase",
   "metadata": {},
   "outputs": [],
   "source": []
  }
 ],
 "metadata": {
  "kernelspec": {
   "display_name": "Python 3 (ipykernel)",
   "language": "python",
   "name": "python3"
  },
  "language_info": {
   "codemirror_mode": {
    "name": "ipython",
    "version": 3
   },
   "file_extension": ".py",
   "mimetype": "text/x-python",
   "name": "python",
   "nbconvert_exporter": "python",
   "pygments_lexer": "ipython3",
   "version": "3.10.5"
  }
 },
 "nbformat": 4,
 "nbformat_minor": 5
}
