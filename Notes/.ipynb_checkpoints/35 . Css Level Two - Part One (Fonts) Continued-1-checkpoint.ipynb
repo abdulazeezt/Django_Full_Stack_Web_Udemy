{
 "cells": [
  {
   "cell_type": "markdown",
   "id": "002fe932",
   "metadata": {},
   "source": [
    "# Checking font availabiliey status in Wikipedia"
   ]
  },
  {
   "cell_type": "markdown",
   "id": "c4f5c150",
   "metadata": {},
   "source": [
    "### https://en.wikipedia.org/wiki/List_of_typefaces_included_with_Microsoft_Windows"
   ]
  },
  {
   "cell_type": "markdown",
   "id": "40c5de70",
   "metadata": {},
   "source": [
    "# Checking availability of font in any os"
   ]
  },
  {
   "cell_type": "markdown",
   "id": "af8ebc5c",
   "metadata": {},
   "source": [
    "### https://www.cssfontstack.com/"
   ]
  },
  {
   "cell_type": "code",
   "execution_count": null,
   "id": "95d9ef23",
   "metadata": {},
   "outputs": [],
   "source": []
  },
  {
   "cell_type": "code",
   "execution_count": null,
   "id": "65696d1e",
   "metadata": {},
   "outputs": [],
   "source": []
  }
 ],
 "metadata": {
  "kernelspec": {
   "display_name": "Python 3 (ipykernel)",
   "language": "python",
   "name": "python3"
  },
  "language_info": {
   "codemirror_mode": {
    "name": "ipython",
    "version": 3
   },
   "file_extension": ".py",
   "mimetype": "text/x-python",
   "name": "python",
   "nbconvert_exporter": "python",
   "pygments_lexer": "ipython3",
   "version": "3.10.5"
  }
 },
 "nbformat": 4,
 "nbformat_minor": 5
}
