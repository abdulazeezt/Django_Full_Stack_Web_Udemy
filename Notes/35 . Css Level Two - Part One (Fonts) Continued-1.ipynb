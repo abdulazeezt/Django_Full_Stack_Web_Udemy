{
 "cells": [
  {
   "cell_type": "markdown",
   "id": "0f167caa",
   "metadata": {},
   "source": [
    "# Checking font availabiliey status in Wikipedia"
   ]
  },
  {
   "cell_type": "markdown",
   "id": "199c4996",
   "metadata": {},
   "source": [
    "### https://en.wikipedia.org/wiki/List_of_typefaces_included_with_Microsoft_Windows"
   ]
  },
  {
   "cell_type": "markdown",
   "id": "dfc70be5",
   "metadata": {},
   "source": [
    "# Checking availability of font in any os"
   ]
  },
  {
   "cell_type": "markdown",
   "id": "7abe8857",
   "metadata": {},
   "source": [
    "### https://www.cssfontstack.com/"
   ]
  },
  {
   "cell_type": "markdown",
   "id": "d73b21ef",
   "metadata": {},
   "source": []
  },
  {
   "cell_type": "markdown",
   "id": "93503ca0",
   "metadata": {},
   "source": [
    "# Downloading font and using locally"
   ]
  },
  {
   "cell_type": "markdown",
   "id": "3e75b274",
   "metadata": {},
   "source": [
    " \n",
    "    \n",
    "About - Google Fonts\n",
    "https://fonts.google.com › about\n",
    "Google Fonts is a library of 1462 open source font families and APIs for convenient use via CSS and Android. The library also has delightful and beautifully ...\n",
    "    \n",
    "    "
   ]
  },
  {
   "cell_type": "markdown",
   "id": "042f98e8",
   "metadata": {},
   "source": []
  },
  {
   "cell_type": "markdown",
   "id": "2d87cd77",
   "metadata": {},
   "source": []
  },
  {
   "cell_type": "markdown",
   "id": "018b971a",
   "metadata": {},
   "source": []
  },
  {
   "cell_type": "markdown",
   "id": "d510b91f",
   "metadata": {},
   "source": []
  },
  {
   "cell_type": "markdown",
   "id": "15a82a35",
   "metadata": {},
   "source": []
  },
  {
   "cell_type": "code",
   "execution_count": null,
   "id": "927845c1",
   "metadata": {},
   "outputs": [],
   "source": []
  },
  {
   "cell_type": "code",
   "execution_count": null,
   "id": "a58df89e",
   "metadata": {},
   "outputs": [],
   "source": []
  },
  {
   "cell_type": "code",
   "execution_count": null,
   "id": "31689e23",
   "metadata": {},
   "outputs": [],
   "source": []
  }
 ],
 "metadata": {
  "kernelspec": {
   "display_name": "Python 3 (ipykernel)",
   "language": "python",
   "name": "python3"
  },
  "language_info": {
   "codemirror_mode": {
    "name": "ipython",
    "version": 3
   },
   "file_extension": ".py",
   "mimetype": "text/x-python",
   "name": "python",
   "nbconvert_exporter": "python",
   "pygments_lexer": "ipython3",
   "version": "3.10.5"
  }
 },
 "nbformat": 4,
 "nbformat_minor": 5
}
