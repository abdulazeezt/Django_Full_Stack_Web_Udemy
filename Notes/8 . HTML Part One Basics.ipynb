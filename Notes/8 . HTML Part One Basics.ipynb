{
 "cells": [
  {
   "cell_type": "markdown",
   "id": "proof-treasury",
   "metadata": {},
   "source": [
    "Notes : \n",
    "1. Avoid using spaces in folder names and filnames. \n",
    "2. To get a skeleton HTML  type HTML and it will expands.\n",
    "\n",
    "DOCTYPE:\n",
    "\n",
    "HEAD Section uses metadata ie. used to link other documents. \n"
   ]
  },
  {
   "cell_type": "markdown",
   "id": "dimensional-violence",
   "metadata": {},
   "source": [
    "#### BODY"
   ]
  },
  {
   "cell_type": "markdown",
   "id": "approved-prediction",
   "metadata": {},
   "source": [
    "Body is the actual data\n"
   ]
  },
  {
   "cell_type": "markdown",
   "id": "employed-schema",
   "metadata": {},
   "source": [
    "#### COMMENTS"
   ]
  },
  {
   "cell_type": "markdown",
   "id": "innocent-emission",
   "metadata": {},
   "source": [
    "Comments can be inserted using :\n",
    "<!-- \n",
    "anything is a comment -->"
   ]
  },
  {
   "cell_type": "code",
   "execution_count": null,
   "id": "fundamental-horizon",
   "metadata": {},
   "outputs": [],
   "source": [
    "\n"
   ]
  },
  {
   "cell_type": "code",
   "execution_count": null,
   "id": "applied-brighton",
   "metadata": {},
   "outputs": [],
   "source": []
  },
  {
   "cell_type": "code",
   "execution_count": null,
   "id": "anonymous-imperial",
   "metadata": {},
   "outputs": [],
   "source": []
  },
  {
   "cell_type": "code",
   "execution_count": null,
   "id": "manufactured-darkness",
   "metadata": {},
   "outputs": [],
   "source": []
  }
 ],
 "metadata": {
  "kernelspec": {
   "display_name": "Python 3",
   "language": "python",
   "name": "python3"
  },
  "language_info": {
   "codemirror_mode": {
    "name": "ipython",
    "version": 3
   },
   "file_extension": ".py",
   "mimetype": "text/x-python",
   "name": "python",
   "nbconvert_exporter": "python",
   "pygments_lexer": "ipython3",
   "version": "3.8.4"
  }
 },
 "nbformat": 4,
 "nbformat_minor": 5
}
